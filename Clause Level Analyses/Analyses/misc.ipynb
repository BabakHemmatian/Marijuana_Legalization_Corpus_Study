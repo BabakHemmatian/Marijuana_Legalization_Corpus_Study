{
 "metadata": {
  "language_info": {
   "codemirror_mode": {
    "name": "ipython",
    "version": 3
   },
   "file_extension": ".py",
   "mimetype": "text/x-python",
   "name": "python",
   "nbconvert_exporter": "python",
   "pygments_lexer": "ipython3",
   "version": "3.8.2"
  },
  "orig_nbformat": 2,
  "kernelspec": {
   "name": "python3",
   "display_name": "Python 3.8.2 64-bit ('env': venv)",
   "metadata": {
    "interpreter": {
     "hash": "a33447f5139ed265514b1105aba34fea5c18995e62352ef80023bc14284890c9"
    }
   }
  }
 },
 "nbformat": 4,
 "nbformat_minor": 2,
 "cells": [
  {
   "cell_type": "code",
   "execution_count": 17,
   "metadata": {},
   "outputs": [],
   "source": [
    "import csv\n",
    "import pandas as pd\n",
    "import sqlite3\n",
    "from sqlite3 import Error\n",
    "\n",
    "def connect_to_database(db_file):\n",
    "    \"\"\" create a database connection to the SQLite database\n",
    "        specified by the db_file\n",
    "    :param db_file: database file\n",
    "    :return: Connection object or None\n",
    "    \"\"\"\n",
    "    conn = None\n",
    "    try:\n",
    "        conn = sqlite3.connect(db_file)\n",
    "    except Error as e:\n",
    "        print(e)\n",
    "\n",
    "    return conn"
   ]
  },
  {
   "cell_type": "code",
   "execution_count": 18,
   "metadata": {},
   "outputs": [],
   "source": [
    "import re\n",
    "\n",
    "DB_FILE = '../data/reddit_50_both_inferred.db'\n",
    "\n",
    "# get connection with database\n",
    "conn = connect_to_database(DB_FILE)\n",
    "cur = conn.cursor()\n",
    "conn.text_factory = lambda b: b.decode(errors = 'ignore')\n",
    "\n",
    "def clean_text(text):\n",
    "    text = re.sub('\\[(.+)\\] {0,1}\\((https?:\\/\\/[^\\s]+)?(?: \"(.+)\")?\\)', r'\\1' ,text)\t\n",
    "    text = re.sub(r'http\\S+', '', text, flags=re.MULTILINE)\n",
    "\n",
    "    text = text.replace('.)', '.')\n",
    "    text = text.replace('.(', '.')\n",
    "    text = text.replace(').', '.')\n",
    "    text = text.replace('(.', '.')\n",
    "    text = text.replace('.', ' . ')\n",
    "    text = text.replace('?', ' ? ')\n",
    "    text = text.replace('!', ' ! ')\n",
    "    text = text.replace('\"', ' \" ')\n",
    "    return text"
   ]
  },
  {
   "cell_type": "code",
   "execution_count": 19,
   "metadata": {},
   "outputs": [
    {
     "output_type": "error",
     "ename": "KeyboardInterrupt",
     "evalue": "",
     "traceback": [
      "\u001b[0;31m---------------------------------------------------------------------------\u001b[0m",
      "\u001b[0;31mKeyboardInterrupt\u001b[0m                         Traceback (most recent call last)",
      "\u001b[0;32m<ipython-input-19-e2f2274755f9>\u001b[0m in \u001b[0;36m<module>\u001b[0;34m\u001b[0m\n\u001b[1;32m      1\u001b[0m \u001b[0mcur\u001b[0m\u001b[0;34m.\u001b[0m\u001b[0mexecute\u001b[0m\u001b[0;34m(\u001b[0m\u001b[0;34m\"SELECT * FROM comments\"\u001b[0m\u001b[0;34m)\u001b[0m\u001b[0;34m\u001b[0m\u001b[0;34m\u001b[0m\u001b[0m\n\u001b[0;32m----> 2\u001b[0;31m \u001b[0mclauses_rows\u001b[0m \u001b[0;34m=\u001b[0m \u001b[0mcur\u001b[0m\u001b[0;34m.\u001b[0m\u001b[0mfetchall\u001b[0m\u001b[0;34m(\u001b[0m\u001b[0;34m)\u001b[0m\u001b[0;34m\u001b[0m\u001b[0;34m\u001b[0m\u001b[0m\n\u001b[0m\u001b[1;32m      3\u001b[0m \u001b[0;34m\u001b[0m\u001b[0m\n\u001b[1;32m      4\u001b[0m \u001b[0mpolitic\u001b[0m \u001b[0;34m=\u001b[0m \u001b[0;34m[\u001b[0m\u001b[0;34m]\u001b[0m\u001b[0;34m\u001b[0m\u001b[0;34m\u001b[0m\u001b[0m\n\u001b[1;32m      5\u001b[0m \u001b[0mconspiro\u001b[0m \u001b[0;34m=\u001b[0m \u001b[0;34m[\u001b[0m\u001b[0;34m]\u001b[0m\u001b[0;34m\u001b[0m\u001b[0;34m\u001b[0m\u001b[0m\n",
      "\u001b[0;32m<ipython-input-18-1baf0771846b>\u001b[0m in \u001b[0;36m<lambda>\u001b[0;34m(b)\u001b[0m\n\u001b[1;32m      6\u001b[0m \u001b[0mconn\u001b[0m \u001b[0;34m=\u001b[0m \u001b[0mconnect_to_database\u001b[0m\u001b[0;34m(\u001b[0m\u001b[0mDB_FILE\u001b[0m\u001b[0;34m)\u001b[0m\u001b[0;34m\u001b[0m\u001b[0;34m\u001b[0m\u001b[0m\n\u001b[1;32m      7\u001b[0m \u001b[0mcur\u001b[0m \u001b[0;34m=\u001b[0m \u001b[0mconn\u001b[0m\u001b[0;34m.\u001b[0m\u001b[0mcursor\u001b[0m\u001b[0;34m(\u001b[0m\u001b[0;34m)\u001b[0m\u001b[0;34m\u001b[0m\u001b[0;34m\u001b[0m\u001b[0m\n\u001b[0;32m----> 8\u001b[0;31m \u001b[0mconn\u001b[0m\u001b[0;34m.\u001b[0m\u001b[0mtext_factory\u001b[0m \u001b[0;34m=\u001b[0m \u001b[0;32mlambda\u001b[0m \u001b[0mb\u001b[0m\u001b[0;34m:\u001b[0m \u001b[0mb\u001b[0m\u001b[0;34m.\u001b[0m\u001b[0mdecode\u001b[0m\u001b[0;34m(\u001b[0m\u001b[0merrors\u001b[0m \u001b[0;34m=\u001b[0m \u001b[0;34m'ignore'\u001b[0m\u001b[0;34m)\u001b[0m\u001b[0;34m\u001b[0m\u001b[0;34m\u001b[0m\u001b[0m\n\u001b[0m\u001b[1;32m      9\u001b[0m \u001b[0;34m\u001b[0m\u001b[0m\n\u001b[1;32m     10\u001b[0m \u001b[0;32mdef\u001b[0m \u001b[0mclean_text\u001b[0m\u001b[0;34m(\u001b[0m\u001b[0mtext\u001b[0m\u001b[0;34m)\u001b[0m\u001b[0;34m:\u001b[0m\u001b[0;34m\u001b[0m\u001b[0;34m\u001b[0m\u001b[0m\n",
      "\u001b[0;31mKeyboardInterrupt\u001b[0m: "
     ]
    }
   ],
   "source": [
    "cur.execute(\"SELECT * FROM comments\")\n",
    "clauses_rows = cur.fetchall()\n",
    "\n",
    "politic = []\n",
    "conspiro = []\n",
    "count = 0\n",
    "for index, row in enumerate(clauses_rows):\n",
    "    text = row[0]\n",
    "    doc_id = index\n",
    "    subreddit = row[2]\n",
    "\n",
    "    cur.execute(\"SELECT * FROM classified_clauses where doc_id = ?\", (int(doc_id),))\n",
    "    classified = cur.fetchall()\n",
    "    if classified:\n",
    "        continue\n",
    "\n",
    "    if subreddit == 'conspiro':\n",
    "        count += 1\n",
    "        text = text.split('^^link]')\n",
    "        if len(text) > 1:\n",
    "            text = text[1]\n",
    "            text = clean_text(text)\n",
    "        else:\n",
    "            text = text[0]\n",
    "            text = clean_text(text)\n",
    "        with open('unsegmented_docs_conspiro/' + str(doc_id) + '.txt', 'w+') as f:\n",
    "            f.write(text)\n",
    "print(count)"
   ]
  },
  {
   "cell_type": "code",
   "execution_count": 21,
   "metadata": {},
   "outputs": [
    {
     "output_type": "stream",
     "name": "stdout",
     "text": [
      "3059959\n"
     ]
    }
   ],
   "source": [
    "cur.execute(\"SELECT * FROM comments\")\n",
    "clauses_rows = cur.fetchall()\n",
    "print(len(clauses_rows))"
   ]
  },
  {
   "cell_type": "code",
   "execution_count": 15,
   "metadata": {
    "tags": []
   },
   "outputs": [],
   "source": [
    "from genericity_temporal_phis import * \n",
    "\n",
    "generic_phis = {}\n",
    "\n",
    "for date in generic_temporal_phis:\n",
    "    for topic in generic_temporal_phis[date]:\n",
    "        if topic in generic_phis:\n",
    "            generic_phis[topic] = generic_phis[topic] + generic_temporal_phis[date][topic][1]\n",
    "        else:\n",
    "            generic_phis[topic] = generic_temporal_phis[date][topic][1]"
   ]
  },
  {
   "cell_type": "code",
   "execution_count": 16,
   "metadata": {},
   "outputs": [
    {
     "output_type": "stream",
     "name": "stdout",
     "text": [
      "{3: 1787914.7152490723, 10: 1616619.919805951, 22: 1208503.1958720458, 24: 695603.6933250746, 25: 1873688.620169454, 32: 1489593.1569075887, 37: 1504382.0955800544, 38: 1610030.8321296982, 28: 1287131.1719919797, 47: 1600475.6683160795, 4: 756670.173333562, 6: 4247045.166562834, 14: 749475.9208744845, 36: 8371450.054769329, 43: 993407.15155175, 41: 2197264.9354781457, 5: 2151787.6482718484, 2: 1174430.9259468324, 9: 426462.58268622914, 11: 2549693.3134639263, 12: 3340374.7317726095, 17: 1384545.2439479674, 19: 957160.8793053005, 45: 1535731.8965813278, 0: 2367318.174128791, 7: 2059322.4197419295, 8: 2102229.9491184205, 13: 2978745.1757756504, 16: 2248969.610607441, 49: 2417176.584196859, 18: 403472.0771046786, 39: 223194.0788792883, 27: 443242.81950124505, 30: 4472355.088758087, 1: 1823300.2079906235, 42: 1408940.5933644404, 44: 555627.8710902458, 20: 275975.07893484586, 15: 1002765.2419477337, 48: 1257345.7576339995, 31: 656519.4858126544, 23: 778174.5097661032, 29: 1143100.7100436953, 34: 215222.2643451573, 40: 1575062.697255521, 46: 231385.95814537085, 33: 186289.7728517716, 21: 256322.11931835912, 35: 683209.1164058953, 26: 843869.4373401662}\n"
     ]
    }
   ],
   "source": [
    "print(generic_phis)"
   ]
  },
  {
   "cell_type": "code",
   "execution_count": 17,
   "metadata": {},
   "outputs": [],
   "source": [
    "from genericity_temporal_phis import * \n",
    "\n",
    "specific_phis = {}\n",
    "\n",
    "for date in specific_temporal_phis:\n",
    "    for topic in specific_temporal_phis[date]:\n",
    "        if topic in specific_phis:\n",
    "            specific_phis[topic] = specific_phis[topic] + specific_temporal_phis[date][topic][1]\n",
    "        else:\n",
    "            specific_phis[topic] = specific_temporal_phis[date][topic][1]"
   ]
  },
  {
   "cell_type": "code",
   "execution_count": 19,
   "metadata": {},
   "outputs": [],
   "source": [
    "from genericity_temporal_phis import * \n",
    "\n",
    "unclear_phis = {}\n",
    "\n",
    "for date in unclear_temporal_phis:\n",
    "    for topic in unclear_temporal_phis[date]:\n",
    "        if topic in unclear_phis:\n",
    "            unclear_phis[topic] = unclear_phis[topic] + unclear_temporal_phis[date][topic][1]\n",
    "        else:\n",
    "            unclear_phis[topic] = unclear_temporal_phis[date][topic][1]"
   ]
  },
  {
   "cell_type": "code",
   "execution_count": 21,
   "metadata": {},
   "outputs": [
    {
     "output_type": "stream",
     "name": "stdout",
     "text": [
      "{10: 1189380.420290551, 25: 2102097.5795805436, 37: 2044098.097003471, 38: 2397496.021640993, 43: 799654.518141759, 3: 1954014.5300227078, 24: 878074.9908430495, 32: 7340451.050203972, 22: 2906608.001210647, 46: 382812.2422939695, 1: 2704649.5251331553, 4: 1464560.4836780916, 28: 3145121.397869558, 47: 1333303.7835213314, 9: 851591.258633596, 31: 1131043.9699801498, 6: 2845948.251871641, 36: 10850469.093112057, 41: 1764619.3100763333, 5: 2792639.218947928, 14: 885154.7650283343, 12: 2561547.829895829, 19: 919368.4586318396, 17: 941020.7637018219, 2: 750889.1047919758, 11: 2375579.8151653754, 45: 1210585.2031178372, 0: 1319914.4159310132, 7: 1710491.2293711326, 13: 2794495.4696214003, 16: 1901210.6348763374, 18: 524712.5807317155, 8: 1598570.5583546888, 49: 4840061.287171525, 27: 476467.7216240158, 30: 9415973.54697919, 42: 1276912.8458615167, 44: 722338.7447772871, 20: 401428.7931784704, 15: 2166751.062092003, 34: 327192.17047334794, 48: 1177189.9859197743, 23: 1034301.763072174, 29: 1829964.4593481491, 26: 1288219.8030587542, 40: 2050145.3315231418, 21: 467467.0229230902, 33: 269168.69266966556, 35: 899336.9480000463, 39: 384216.5672691465}\n{22: 1631208.8969968818, 10: 1160910.4700909136, 3: 1448316.145210348, 24: 619820.362072392, 25: 1861785.9279182877, 32: 3273825.9549573343, 37: 1292562.170438059, 38: 1377927.3254669737, 43: 840148.3150063624, 4: 1616090.044740922, 9: 546620.359203911, 47: 1059414.8166980043, 28: 1642789.7218602234, 1: 1452706.1269286915, 31: 983299.1439359415, 6: 2759917.9176494866, 36: 6612637.22905022, 41: 1599508.0899975188, 5: 1776880.3089705366, 14: 634361.414320178, 18: 370201.8400399334, 2: 776244.6824387045, 11: 1795758.3636652832, 12: 2217572.780515155, 17: 918244.4221575601, 45: 1066453.543755457, 19: 912415.2513288811, 0: 1262057.1711460424, 7: 1559908.4339272918, 13: 1675564.2056723312, 16: 1469114.0814275623, 49: 3221012.073649562, 8: 1163157.2877870388, 30: 4843750.034848961, 42: 1000576.6694584946, 27: 359520.07569717296, 15: 1238135.2201881667, 20: 322842.0648986146, 48: 1039462.8550673223, 23: 957542.5669537217, 29: 1201323.074020211, 26: 1018164.7059566759, 40: 1556552.427854629, 21: 347541.3334708004, 33: 222924.2094332388, 34: 260944.20198891827, 46: 303489.8034105, 44: 478792.856160221, 35: 624779.2088376057, 39: 277898.12573381764}\n"
     ]
    }
   ],
   "source": [
    "for key in generic_phis:\n",
    "    print(key, (generic_phis[key] + specific_phis[key] + unclear_phis[key]))"
   ]
  },
  {
   "cell_type": "code",
   "execution_count": 14,
   "metadata": {},
   "outputs": [
    {
     "output_type": "stream",
     "name": "stdout",
     "text": [
      "25 5837572.526450148\n22 5746320.8610124\n10 3966911.4381569335\n24 2193499.2433348936\n32 12103870.459267337\n37 4841043.013642906\n38 5385455.269941339\n3 5190245.967160333\n43 2633210.0452474826\n4 3837320.9829284335\n9 1824674.1240844538\n47 3993194.0858332943\n28 6075042.872331295\n1 5980655.507165439\n31 2770864.4653340876\n6 9852913.953080384\n36 25834562.708842255\n41 5561392.161864741\n2 2701565.26207689\n11 6721032.742018116\n12 8119499.567161252\n17 3243810.4595466144\n45 3812771.165681253\n0 4949290.370503877\n7 5329721.982992546\n16 5619294.704295007\n49 10478252.659879327\n13 7448805.928941\n18 1298386.6136942417\n30 18732080.305149086\n42 3686429.5293476465\n8 4863957.076298263\n14 2268992.2339974674\n5 6721307.738697534\n27 1279230.5532180518\n15 4407651.714510859\n20 1000245.9839712273\n23 2770018.82361872\n29 4174387.6348433034\n40 5181760.038202119\n21 1071330.5177063667\n33 678382.6710407009\n34 803358.6054621071\n44 1756759.5357739625\n48 3473998.756318994\n26 3150255.0634995564\n35 2207325.3819016013\n19 2788945.1154146353\n46 917687.986128953\n39 885308.7586432134\n"
     ]
    }
   ],
   "source": [
    "for key in bounded_phis:\n",
    "    print(key, bounded_phis[key] + unbounded_phis[key])"
   ]
  },
  {
   "cell_type": "code",
   "execution_count": null,
   "metadata": {},
   "outputs": [],
   "source": []
  }
 ]
}